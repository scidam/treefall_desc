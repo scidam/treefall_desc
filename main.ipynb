{
 "cells": [
  {
   "cell_type": "markdown",
   "metadata": {},
   "source": [
    "### Treefalls basic statistical analysis"
   ]
  },
  {
   "cell_type": "markdown",
   "metadata": {},
   "source": [
    "The document descibes natural disturbances in stands caused by winds. We are trying to estimate the amount of such disturbances using different numerical measures, such as area of disturbances vs. geomorphological variables (height above sea level, slope, aspect, local gaussian curvature. "
   ]
  },
  {
   "cell_type": "markdown",
   "metadata": {},
   "source": [
    "### Configuration parameters"
   ]
  },
  {
   "cell_type": "markdown",
   "metadata": {},
   "source": [
    "The section defines parameters that will allow to get access to the data: DEM and DEM-derived data, treefalls masked arrays."
   ]
  },
  {
   "cell_type": "code",
   "execution_count": 2,
   "metadata": {},
   "outputs": [],
   "source": [
    "import os\n",
    "datadir = './data'\n",
    "data_mapper = {'kunashir': {'box' : [4838720, 4935728, 369720, 468775], \n",
    "                            'data': {'height': 'kunUTM.tif',\n",
    "                                     'curvature': 'vars_kun/Curvatu_kun.tif',\n",
    "                                     'slope': 'vars_kun/Slope_kun.tif',\n",
    "                                     'aspect': 'vars_kun/Aspect_kun.tif',\n",
    "                                     'treefall': 'tiff_windfalls/windfalls_500m2_sakh_kur_Pol1.tif',\n",
    "                                     'cover': 'forest_cover.tif',\n",
    "                                     'biomass': 'biomass.tif'\n",
    "                                    }\n",
    "                                    },\n",
    "               'sakhalin': {'box': [5086970, 5377762, 85000, 243321],\n",
    "                            'data': {'height': 'sakhUTM.tif',\n",
    "                            'curvature': 'vars_sakh/Curvatu.tif',\n",
    "                            'slope': 'vars_sakh/Slope.tif',\n",
    "                            'aspect': 'vars_sakh/Aspect.tif',\n",
    "                            'treefall': 'tiff_windfalls/windfalls_500m2_sakh_kur_Pol1.tif',\n",
    "                            'cover': 'forest_cover.tif',\n",
    "                            'biomass': 'biomass.tif'\n",
    "                                    }},\n",
    "               'iturup': {'box': [4915354, 5004258, 488455, 556985],\n",
    "                          'data':   {'height': 'kunUTM.tif',\n",
    "                                     'curvature': 'vars_kun/Curvatu_kun.tif',\n",
    "                                     'slope': 'vars_kun/Slope_kun.tif',\n",
    "                                     'aspect': 'vars_kun/Aspect_kun.tif',\n",
    "                                     'treefall': 'tiff_windfalls/windfalls_500m2_sakh_kur_Pol1.tif',\n",
    "                                     'cover': 'forest_cover.tif',\n",
    "                                     'biomass': 'biomass.tif'\n",
    "                                    }},\n",
    "               \n",
    "#                 'shikotan': {'box': [4835160, 4862724, 467084, 494377],\n",
    "#                              'data': {'height': 'kunUTM.tif',\n",
    "#                                      'curvature': 'vars_kun/Curvatu_kun.tif',\n",
    "#                                      'slope': 'vars_kun/Slope_kun.tif',\n",
    "#                                      'aspect': 'vars_kun/Aspect_kun.tif',\n",
    "#                                      'treefall': 'tiff_windfalls/windfalls_500m2_sakh_kur_Pol1.tif',\n",
    "#                                      'cover': 'forest_cover.tif',\n",
    "#                                      'biomass': 'biomass.tif'\n",
    "#                                     }}\n",
    "               } \n",
    "\n",
    "for key in data_mapper:\n",
    "    for j in data_mapper[key]['data']:\n",
    "        data_mapper[key]['data'][j] = os.path.join(datadir, data_mapper[key]['data'][j])\n"
   ]
  },
  {
   "cell_type": "markdown",
   "metadata": {},
   "source": [
    "### Auxiliary functions"
   ]
  },
  {
   "cell_type": "markdown",
   "metadata": {},
   "source": [
    "Here we define `gdal` based function used to perform basic i/o operations on spatial data. "
   ]
  },
  {
   "cell_type": "code",
   "execution_count": 3,
   "metadata": {},
   "outputs": [],
   "source": [
    "import numpy as np\n",
    "from osgeo import gdal\n",
    "from osgeo import osr\n",
    "\n",
    "def array_to_raster(array, lats, lons,  outputfilename, asfname):\n",
    "    \"\"\"Array > Raster\n",
    "    Save a raster from a C order array.\n",
    "\n",
    "    :param array: ndarray\n",
    "    \"\"\"\n",
    "    \n",
    "    SourceDS = gdal.Open(asfname, gdal.GA_ReadOnly)\n",
    "    Projection = osr.SpatialReference()\n",
    "    Projection.ImportFromWkt(SourceDS.GetProjectionRef())    \n",
    "    x_pixels, y_pixels = array.shape\n",
    "    XPIXEL_SIZE = (lons[1] - lons[0]) / float(x_pixels)\n",
    "    YPIXEL_SIZE = (lats[1] - lats[0]) / float(y_pixels)\n",
    "    x_min = np.min(lons)\n",
    "    y_max = np.max(lats)\n",
    "    driver = gdal.GetDriverByName('GTiff')\n",
    "    dataset = driver.Create(\n",
    "        outputfilename,\n",
    "        y_pixels,\n",
    "        x_pixels,\n",
    "        1,\n",
    "        gdal.GDT_Float32)\n",
    "\n",
    "    dataset.SetGeoTransform((\n",
    "        x_min,    # 0\n",
    "        abs(XPIXEL_SIZE),  # 1\n",
    "        0,                      # 2\n",
    "        y_max,    # 3\n",
    "        0,                      # 4\n",
    "        -abs(YPIXEL_SIZE)))\n",
    "    dataset.SetProjection(Projection.ExportToWkt())\n",
    "    dataset.GetRasterBand(1).WriteArray(array)\n",
    "    dataset.FlushCache()  # Write to disk.\n",
    "    return 0\n",
    "\n",
    "\n",
    "def get_data_by_coordinate_np(lats, lons, array, xmin, xres, ymax, yres):\n",
    "    \"\"\"Just a helper function\"\"\"\n",
    "    lat_inds = ((lats - ymax) / yres).astype(np.int16)\n",
    "    lon_inds = ((lons - xmin) / xres).astype(np.int16)\n",
    "    array = array[lat_inds, lon_inds]\n",
    "    return array\n",
    "\n",
    "\n",
    "def load_data(lats, lons, filename):\n",
    "    data = gdal.Open(filename)\n",
    "    geoinfo = data.GetGeoTransform()\n",
    "    xmin = geoinfo[0]\n",
    "    xres = geoinfo[1]\n",
    "    ymax = geoinfo[3]\n",
    "    yrot = geoinfo[4]\n",
    "    xrot = geoinfo[2]\n",
    "    yres = geoinfo[-1]\n",
    "    if not np.isclose(xrot, 0) or not np.isclose(yrot, 0):\n",
    "        raise BaseException(\"xrot and yrot should be 0\")\n",
    "    array = data.ReadAsArray()\n",
    "    del data\n",
    "    result = get_data_by_coordinate_np(np.array(lats, dtype=np.float64),\n",
    "                                  np.array(lons, dtype=np.float64),\n",
    "                                  array,\n",
    "                                  xmin, xres, ymax, yres)\n",
    "    return result\n",
    "\n",
    "\n",
    "def create_grid(area, dlat=50, dlon=50):\n",
    "    \"\"\"Returns raw meshgrid based on specified discretization parameters\n",
    "    \"\"\"\n",
    "    latmin, latmax, lonmin, lonmax = area\n",
    "    lats = np.arange(latmin, latmax, dlat)\n",
    "    lons = np.arange(lonmin, lonmax, dlon)\n",
    "    return np.meshgrid(lats, lons)\n",
    "\n"
   ]
  },
  {
   "cell_type": "markdown",
   "metadata": {},
   "source": [
    "### Functions for specific data loading"
   ]
  },
  {
   "cell_type": "code",
   "execution_count": 4,
   "metadata": {},
   "outputs": [],
   "source": [
    "def load_specific_data(area='sakhalin', spec='treefall', dlat=100, dlon=100):\n",
    "    \"\"\"Loads data and return flattened array\"\"\"\n",
    "    lats, lons = create_grid(data_mapper[area]['box'], dlat=dlat, dlon=dlon)\n",
    "    data = load_data(lats, lons, data_mapper[area]['data'][spec])\n",
    "    if spec == 'treefall':\n",
    "        nodata_value = 255\n",
    "        data[data==nodata_value] = 0\n",
    "    return data, lats, lons\n",
    "  "
   ]
  },
  {
   "cell_type": "markdown",
   "metadata": {},
   "source": [
    "## Lets do some tests"
   ]
  },
  {
   "cell_type": "code",
   "execution_count": 5,
   "metadata": {},
   "outputs": [],
   "source": [
    "import matplotlib.pyplot as plt"
   ]
  },
  {
   "cell_type": "code",
   "execution_count": 6,
   "metadata": {},
   "outputs": [
    {
     "name": "stdout",
     "output_type": "stream",
     "text": [
      "Explored area:  kunashir\n",
      "(991, 971) (991, 971) (991, 971)\n"
     ]
    },
    {
     "data": {
      "image/png": "[encoded data removed]",
      "text/plain": [
       "<Figure size 432x288 with 1 Axes>"
      ]
     },
     "metadata": {},
     "output_type": "display_data"
    },
    {
     "name": "stdout",
     "output_type": "stream",
     "text": [
      "Explored area:  iturup\n",
      "(686, 890) (686, 890) (686, 890)\n"
     ]
    },
    {
     "data": {
      "image/png": "[encoded data removed]",
      "text/plain": [
       "<Figure size 432x288 with 1 Axes>"
      ]
     },
     "metadata": {},
     "output_type": "display_data"
    },
    {
     "name": "stdout",
     "output_type": "stream",
     "text": [
      "Explored area:  sakhalin\n",
      "(1584, 2908) (1584, 2908) (1584, 2908)\n"
     ]
    },
    {
     "data": {
      "image/png": "[encoded data removed]",
      "text/plain": [
       "<Figure size 432x288 with 1 Axes>"
      ]
     },
     "metadata": {},
     "output_type": "display_data"
    }
   ],
   "source": [
    "for area in data_mapper:\n",
    "    print(\"Explored area: \", area)\n",
    "    data, lats, lons = load_specific_data(area=area, spec='height')\n",
    "    print(data.shape, lats.shape, lons.shape)\n",
    "    plt.imshow(data.T, origin='lower')\n",
    "    plt.show()"
   ]
  },
  {
   "cell_type": "markdown",
   "metadata": {},
   "source": [
    "All tests are passed: we are ready to continue... "
   ]
  },
  {
   "cell_type": "markdown",
   "metadata": {},
   "source": [
    "### Area estimations, w/wo slope corrections"
   ]
  },
  {
   "cell_type": "code",
   "execution_count": 7,
   "metadata": {},
   "outputs": [
    {
     "name": "stdout",
     "output_type": "stream",
     "text": [
      "========= kunashir ==============\n",
      "TreeFall area is sq. km:  11.56309\n",
      "TreeFall area w/o slope correction, sq. km:  11.3\n",
      "Total area is sq. km:  1269.406464\n",
      "Total area w/o slope correction, sq. km:  1224.56\n",
      "==================================================\n",
      "========= iturup ==============\n",
      "TreeFall area is sq. km:  9.614719\n",
      "TreeFall area w/o slope correction, sq. km:  9.57\n",
      "Total area is sq. km:  1026.405952\n",
      "Total area w/o slope correction, sq. km:  990.78\n",
      "==================================================\n",
      "========= sakhalin ==============\n",
      "TreeFall area is sq. km:  447.134592\n",
      "TreeFall area w/o slope correction, sq. km:  425.98\n",
      "Total area is sq. km:  13122.96448\n",
      "Total area w/o slope correction, sq. km:  12600.03\n",
      "==================================================\n"
     ]
    }
   ],
   "source": [
    "for area in data_mapper:\n",
    "    print(\"========= {} ==============\".format(area))\n",
    "    slopes, lats, lons = load_specific_data(area=area, spec='slope')\n",
    "    treefall, lats, lons = load_specific_data(area=area, spec='treefall')\n",
    "    cover, lats, lons = load_specific_data(area=area, spec='cover')\n",
    "    aspect, lats, lons = load_specific_data(area=area, spec='aspect')\n",
    "    lat_size, lon_size = abs(lats[0][1] - lats[0][0]), abs(lons[1][0] - lons[0][0])\n",
    "    all_data_indicies = ((aspect != -1) & (cover > 25))\n",
    "    print(\"TreeFall area is sq. km: \", ((lat_size * lon_size)/np.cos(slopes[treefall == 1]/180*np.pi)).sum()/10**6)\n",
    "    print(\"TreeFall area w/o slope correction, sq. km: \", (lat_size * lon_size*(treefall == 1).sum())/10**6)\n",
    "    print(\"Total area is sq. km: \", ((lat_size * lon_size)/np.cos(slopes[all_data_indicies]/180*np.pi)).sum()/10**6)\n",
    "    print(\"Total area w/o slope correction, sq. km: \", (lat_size * lon_size*(all_data_indicies).sum())/10**6)\n",
    "    print(\"=\" * 50)\n",
    "    \n",
    "    "
   ]
  },
  {
   "cell_type": "code",
   "execution_count": 13,
   "metadata": {},
   "outputs": [
    {
     "name": "stdout",
     "output_type": "stream",
     "text": [
      "Evaluating area:  kunashir\n",
      "Evaluating area:  iturup\n",
      "Evaluating area:  sakhalin\n"
     ]
    }
   ],
   "source": [
    "## Make connectivity regions\n",
    "from skimage.measure import label\n",
    "from collections import Counter\n",
    "\n",
    "for area in data_mapper:\n",
    "    print(\"Evaluating area: \", area)\n",
    "    treefall, lats, lons = load_specific_data(area=area, spec='treefall')\n",
    "    slopes, lats, lons = load_specific_data(area=area, spec='slope')\n",
    "    labels = label(treefall, connectivity=2, background=0) # Tree connectivity \n",
    "    res = []\n",
    "    lat_size, lon_size = abs(lats[0][1] - lats[0][0]), abs(lons[1][0] - lons[0][0])\n",
    "    for lab in np.unique(labels.ravel()):\n",
    "        res.append((lat_size * lon_size / np.cos(slopes[labels == lab] / 180.0 * np.pi)).sum() / 10**6)\n",
    "    res = np.sort(res)[:-1]\n",
    "    cumsum = [res[res <= val].sum() for val in np.sort(np.unique(res))]\n",
    "    plt.figure()\n",
    "    plt.plot(np.sort(np.unique(res)), cumsum)\n",
    "    plt.gca().set_xlabel(\"patch area, km^2\")\n",
    "    plt.gca().set_ylabel(\"cumulative area\")\n",
    "    plt.savefig(\"%s_cumulative.png\" % area, dpi=300)\n",
    "   \n",
    "#     plt.hist(res, bins=100)\n",
    "#     plt.gca().set_xlabel('area, km^2')\n",
    "#     plt.gca().set_ylabel('#num of patches')\n",
    "#     plt.title(\"Tree fall areas distribution\")\n",
    "#     "
   ]
  },
  {
   "cell_type": "markdown",
   "metadata": {},
   "source": [
    "### Treefalls diagram vs. relief characteristics"
   ]
  },
  {
   "cell_type": "code",
   "execution_count": 8,
   "metadata": {},
   "outputs": [
    {
     "name": "stdout",
     "output_type": "stream",
     "text": [
      "========= kunashir ==============\n"
     ]
    },
    {
     "name": "stderr",
     "output_type": "stream",
     "text": [
      "/home/dmitry/.pyenv/versions/3.5.4/envs/sci/lib/python3.5/site-packages/matplotlib/axes/_axes.py:6521: MatplotlibDeprecationWarning: \n",
      "The 'normed' kwarg was deprecated in Matplotlib 2.1 and will be removed in 3.1. Use 'density' instead.\n",
      "  alternative=\"'density'\", removal=\"3.1\")\n"
     ]
    },
    {
     "name": "stdout",
     "output_type": "stream",
     "text": [
      "Statistical comparison to all points\n",
      "K-S test:  Ks_2sampResult(statistic=0.33374922021210235, pvalue=1.1886800548574286e-78)\n",
      "Harvested biomass total=336506: mean=146.94585152838428 +/- std=8.566342322219539 \n",
      "Total biomass total=32981929: mean=132.18521279452372 +/- std=19.02999256348665 \n",
      "==================================================\n",
      "Statistical comparison to all points\n",
      "K-S test:  Ks_2sampResult(statistic=0.17903930131004364, pvalue=6.157277963845973e-23)\n",
      "Harvested biomass total=336506: mean=146.94585152838428 +/- std=8.566342322219539 \n",
      "Total biomass total=32981929: mean=132.18521279452372 +/- std=19.02999256348665 \n",
      "==================================================\n",
      "Statistical comparison to all points\n",
      "K-S test:  Ks_2sampResult(statistic=0.13786650031191516, pvalue=8.967470111825817e-14)\n",
      "Harvested biomass total=336506: mean=146.94585152838428 +/- std=8.566342322219539 \n",
      "Total biomass total=32981929: mean=132.18521279452372 +/- std=19.02999256348665 \n",
      "==================================================\n",
      "========= sakhalin ==============\n"
     ]
    },
    {
     "ename": "MemoryError",
     "evalue": "",
     "output_type": "error",
     "traceback": [
      "\u001b[0;31m---------------------------------------------------------------------------\u001b[0m",
      "\u001b[0;31mMemoryError\u001b[0m                               Traceback (most recent call last)",
      "\u001b[0;32m<ipython-input-8-daae6d8c01e9>\u001b[0m in \u001b[0;36m<module>\u001b[0;34m()\u001b[0m\n\u001b[1;32m      6\u001b[0m     \u001b[0mcover\u001b[0m\u001b[0;34m,\u001b[0m \u001b[0mlats\u001b[0m\u001b[0;34m,\u001b[0m \u001b[0mlons\u001b[0m \u001b[0;34m=\u001b[0m \u001b[0mload_specific_data\u001b[0m\u001b[0;34m(\u001b[0m\u001b[0marea\u001b[0m\u001b[0;34m=\u001b[0m\u001b[0marea\u001b[0m\u001b[0;34m,\u001b[0m \u001b[0mspec\u001b[0m\u001b[0;34m=\u001b[0m\u001b[0;34m'cover'\u001b[0m\u001b[0;34m)\u001b[0m\u001b[0;34m\u001b[0m\u001b[0m\n\u001b[1;32m      7\u001b[0m     \u001b[0maspect\u001b[0m\u001b[0;34m,\u001b[0m \u001b[0mlats\u001b[0m\u001b[0;34m,\u001b[0m \u001b[0mlons\u001b[0m \u001b[0;34m=\u001b[0m \u001b[0mload_specific_data\u001b[0m\u001b[0;34m(\u001b[0m\u001b[0marea\u001b[0m\u001b[0;34m=\u001b[0m\u001b[0marea\u001b[0m\u001b[0;34m,\u001b[0m \u001b[0mspec\u001b[0m\u001b[0;34m=\u001b[0m\u001b[0;34m'aspect'\u001b[0m\u001b[0;34m)\u001b[0m\u001b[0;34m\u001b[0m\u001b[0m\n\u001b[0;32m----> 8\u001b[0;31m     \u001b[0mbiomass\u001b[0m\u001b[0;34m,\u001b[0m \u001b[0mlats\u001b[0m\u001b[0;34m,\u001b[0m \u001b[0mlons\u001b[0m \u001b[0;34m=\u001b[0m \u001b[0mload_specific_data\u001b[0m\u001b[0;34m(\u001b[0m\u001b[0marea\u001b[0m\u001b[0;34m=\u001b[0m\u001b[0marea\u001b[0m\u001b[0;34m,\u001b[0m \u001b[0mspec\u001b[0m\u001b[0;34m=\u001b[0m\u001b[0;34m'biomass'\u001b[0m\u001b[0;34m)\u001b[0m\u001b[0;34m\u001b[0m\u001b[0m\n\u001b[0m\u001b[1;32m      9\u001b[0m     \u001b[0;32mfor\u001b[0m \u001b[0mvar\u001b[0m \u001b[0;32min\u001b[0m \u001b[0;34m(\u001b[0m\u001b[0;34m'height'\u001b[0m\u001b[0;34m,\u001b[0m \u001b[0;34m'aspect'\u001b[0m\u001b[0;34m,\u001b[0m \u001b[0;34m'slope'\u001b[0m\u001b[0;34m)\u001b[0m\u001b[0;34m:\u001b[0m\u001b[0;34m\u001b[0m\u001b[0m\n\u001b[1;32m     10\u001b[0m         \u001b[0mdata\u001b[0m\u001b[0;34m,\u001b[0m \u001b[0mlats\u001b[0m\u001b[0;34m,\u001b[0m \u001b[0mlons\u001b[0m \u001b[0;34m=\u001b[0m \u001b[0mload_specific_data\u001b[0m\u001b[0;34m(\u001b[0m\u001b[0marea\u001b[0m\u001b[0;34m=\u001b[0m\u001b[0marea\u001b[0m\u001b[0;34m,\u001b[0m \u001b[0mspec\u001b[0m\u001b[0;34m=\u001b[0m\u001b[0mvar\u001b[0m\u001b[0;34m)\u001b[0m\u001b[0;34m\u001b[0m\u001b[0m\n",
      "\u001b[0;32m<ipython-input-3-8b5a41e237e5>\u001b[0m in \u001b[0;36mload_specific_data\u001b[0;34m(area, spec, dlat, dlon)\u001b[0m\n\u001b[1;32m      2\u001b[0m     \u001b[0;34m\"\"\"Loads data and return flattened array\"\"\"\u001b[0m\u001b[0;34m\u001b[0m\u001b[0m\n\u001b[1;32m      3\u001b[0m     \u001b[0mlats\u001b[0m\u001b[0;34m,\u001b[0m \u001b[0mlons\u001b[0m \u001b[0;34m=\u001b[0m \u001b[0mcreate_grid\u001b[0m\u001b[0;34m(\u001b[0m\u001b[0mdata_mapper\u001b[0m\u001b[0;34m[\u001b[0m\u001b[0marea\u001b[0m\u001b[0;34m]\u001b[0m\u001b[0;34m[\u001b[0m\u001b[0;34m'box'\u001b[0m\u001b[0;34m]\u001b[0m\u001b[0;34m,\u001b[0m \u001b[0mdlat\u001b[0m\u001b[0;34m=\u001b[0m\u001b[0mdlat\u001b[0m\u001b[0;34m,\u001b[0m \u001b[0mdlon\u001b[0m\u001b[0;34m=\u001b[0m\u001b[0mdlon\u001b[0m\u001b[0;34m)\u001b[0m\u001b[0;34m\u001b[0m\u001b[0m\n\u001b[0;32m----> 4\u001b[0;31m     \u001b[0mdata\u001b[0m \u001b[0;34m=\u001b[0m \u001b[0mload_data\u001b[0m\u001b[0;34m(\u001b[0m\u001b[0mlats\u001b[0m\u001b[0;34m,\u001b[0m \u001b[0mlons\u001b[0m\u001b[0;34m,\u001b[0m \u001b[0mdata_mapper\u001b[0m\u001b[0;34m[\u001b[0m\u001b[0marea\u001b[0m\u001b[0;34m]\u001b[0m\u001b[0;34m[\u001b[0m\u001b[0;34m'data'\u001b[0m\u001b[0;34m]\u001b[0m\u001b[0;34m[\u001b[0m\u001b[0mspec\u001b[0m\u001b[0;34m]\u001b[0m\u001b[0;34m)\u001b[0m\u001b[0;34m\u001b[0m\u001b[0m\n\u001b[0m\u001b[1;32m      5\u001b[0m     \u001b[0;32mif\u001b[0m \u001b[0mspec\u001b[0m \u001b[0;34m==\u001b[0m \u001b[0;34m'treefall'\u001b[0m\u001b[0;34m:\u001b[0m\u001b[0;34m\u001b[0m\u001b[0m\n\u001b[1;32m      6\u001b[0m         \u001b[0mnodata_value\u001b[0m \u001b[0;34m=\u001b[0m \u001b[0;36m255\u001b[0m\u001b[0;34m\u001b[0m\u001b[0m\n",
      "\u001b[0;32m<ipython-input-2-88979b80096c>\u001b[0m in \u001b[0;36mload_data\u001b[0;34m(lats, lons, filename)\u001b[0m\n\u001b[1;32m     58\u001b[0m     \u001b[0;32mif\u001b[0m \u001b[0;32mnot\u001b[0m \u001b[0mnp\u001b[0m\u001b[0;34m.\u001b[0m\u001b[0misclose\u001b[0m\u001b[0;34m(\u001b[0m\u001b[0mxrot\u001b[0m\u001b[0;34m,\u001b[0m \u001b[0;36m0\u001b[0m\u001b[0;34m)\u001b[0m \u001b[0;32mor\u001b[0m \u001b[0;32mnot\u001b[0m \u001b[0mnp\u001b[0m\u001b[0;34m.\u001b[0m\u001b[0misclose\u001b[0m\u001b[0;34m(\u001b[0m\u001b[0myrot\u001b[0m\u001b[0;34m,\u001b[0m \u001b[0;36m0\u001b[0m\u001b[0;34m)\u001b[0m\u001b[0;34m:\u001b[0m\u001b[0;34m\u001b[0m\u001b[0m\n\u001b[1;32m     59\u001b[0m         \u001b[0;32mraise\u001b[0m \u001b[0mBaseException\u001b[0m\u001b[0;34m(\u001b[0m\u001b[0;34m\"xrot and yrot should be 0\"\u001b[0m\u001b[0;34m)\u001b[0m\u001b[0;34m\u001b[0m\u001b[0m\n\u001b[0;32m---> 60\u001b[0;31m     \u001b[0marray\u001b[0m \u001b[0;34m=\u001b[0m \u001b[0mdata\u001b[0m\u001b[0;34m.\u001b[0m\u001b[0mReadAsArray\u001b[0m\u001b[0;34m(\u001b[0m\u001b[0;34m)\u001b[0m\u001b[0;34m\u001b[0m\u001b[0m\n\u001b[0m\u001b[1;32m     61\u001b[0m     \u001b[0;32mdel\u001b[0m \u001b[0mdata\u001b[0m\u001b[0;34m\u001b[0m\u001b[0m\n\u001b[1;32m     62\u001b[0m     result = get_data_by_coordinate_np(np.array(lats, dtype=np.float64),\n",
      "\u001b[0;32m~/.pyenv/versions/3.5.4/envs/sci/lib/python3.5/site-packages/GDAL-2.3.2-py3.5-linux-x86_64.egg/osgeo/gdal.py\u001b[0m in \u001b[0;36mReadAsArray\u001b[0;34m(self, xoff, yoff, xsize, ysize, buf_obj, buf_xsize, buf_ysize, buf_type, resample_alg, callback, callback_data)\u001b[0m\n\u001b[1;32m   2087\u001b[0m                                                \u001b[0mresample_alg\u001b[0m \u001b[0;34m=\u001b[0m \u001b[0mresample_alg\u001b[0m\u001b[0;34m,\u001b[0m\u001b[0;34m\u001b[0m\u001b[0m\n\u001b[1;32m   2088\u001b[0m                                                \u001b[0mcallback\u001b[0m \u001b[0;34m=\u001b[0m \u001b[0mcallback\u001b[0m\u001b[0;34m,\u001b[0m\u001b[0;34m\u001b[0m\u001b[0m\n\u001b[0;32m-> 2089\u001b[0;31m                                                callback_data = callback_data )\n\u001b[0m\u001b[1;32m   2090\u001b[0m \u001b[0;34m\u001b[0m\u001b[0m\n\u001b[1;32m   2091\u001b[0m     def WriteRaster(self, xoff, yoff, xsize, ysize,\n",
      "\u001b[0;32m~/.pyenv/versions/3.5.4/envs/sci/lib/python3.5/site-packages/GDAL-2.3.2-py3.5-linux-x86_64.egg/osgeo/gdal_array.py\u001b[0m in \u001b[0;36mDatasetReadAsArray\u001b[0;34m(ds, xoff, yoff, win_xsize, win_ysize, buf_obj, buf_xsize, buf_ysize, buf_type, resample_alg, callback, callback_data)\u001b[0m\n\u001b[1;32m    260\u001b[0m                                 \u001b[0mresample_alg\u001b[0m \u001b[0;34m=\u001b[0m \u001b[0mresample_alg\u001b[0m\u001b[0;34m,\u001b[0m\u001b[0;34m\u001b[0m\u001b[0m\n\u001b[1;32m    261\u001b[0m                                 \u001b[0mcallback\u001b[0m \u001b[0;34m=\u001b[0m \u001b[0mcallback\u001b[0m\u001b[0;34m,\u001b[0m\u001b[0;34m\u001b[0m\u001b[0m\n\u001b[0;32m--> 262\u001b[0;31m                                 callback_data = callback_data )\n\u001b[0m\u001b[1;32m    263\u001b[0m \u001b[0;34m\u001b[0m\u001b[0m\n\u001b[1;32m    264\u001b[0m     \u001b[0;32mif\u001b[0m \u001b[0mbuf_obj\u001b[0m \u001b[0;32mis\u001b[0m \u001b[0;32mNone\u001b[0m\u001b[0;34m:\u001b[0m\u001b[0;34m\u001b[0m\u001b[0m\n",
      "\u001b[0;32m~/.pyenv/versions/3.5.4/envs/sci/lib/python3.5/site-packages/GDAL-2.3.2-py3.5-linux-x86_64.egg/osgeo/gdal_array.py\u001b[0m in \u001b[0;36mBandReadAsArray\u001b[0;34m(band, xoff, yoff, win_xsize, win_ysize, buf_xsize, buf_ysize, buf_type, buf_obj, resample_alg, callback, callback_data)\u001b[0m\n\u001b[1;32m    336\u001b[0m         \u001b[0;32mif\u001b[0m \u001b[0mbuf_type\u001b[0m \u001b[0;34m==\u001b[0m \u001b[0mgdalconst\u001b[0m\u001b[0;34m.\u001b[0m\u001b[0mGDT_Byte\u001b[0m \u001b[0;32mand\u001b[0m \u001b[0mband\u001b[0m\u001b[0;34m.\u001b[0m\u001b[0mGetMetadataItem\u001b[0m\u001b[0;34m(\u001b[0m\u001b[0;34m'PIXELTYPE'\u001b[0m\u001b[0;34m,\u001b[0m \u001b[0;34m'IMAGE_STRUCTURE'\u001b[0m\u001b[0;34m)\u001b[0m \u001b[0;34m==\u001b[0m \u001b[0;34m'SIGNEDBYTE'\u001b[0m\u001b[0;34m:\u001b[0m\u001b[0;34m\u001b[0m\u001b[0m\n\u001b[1;32m    337\u001b[0m             \u001b[0mtypecode\u001b[0m \u001b[0;34m=\u001b[0m \u001b[0mnumpy\u001b[0m\u001b[0;34m.\u001b[0m\u001b[0mint8\u001b[0m\u001b[0;34m\u001b[0m\u001b[0m\n\u001b[0;32m--> 338\u001b[0;31m         \u001b[0mbuf_obj\u001b[0m \u001b[0;34m=\u001b[0m \u001b[0mnumpy\u001b[0m\u001b[0;34m.\u001b[0m\u001b[0mempty\u001b[0m\u001b[0;34m(\u001b[0m\u001b[0;34m[\u001b[0m\u001b[0mbuf_ysize\u001b[0m\u001b[0;34m,\u001b[0m\u001b[0mbuf_xsize\u001b[0m\u001b[0;34m]\u001b[0m\u001b[0;34m,\u001b[0m \u001b[0mdtype\u001b[0m \u001b[0;34m=\u001b[0m \u001b[0mtypecode\u001b[0m\u001b[0;34m)\u001b[0m\u001b[0;34m\u001b[0m\u001b[0m\n\u001b[0m\u001b[1;32m    339\u001b[0m \u001b[0;34m\u001b[0m\u001b[0m\n\u001b[1;32m    340\u001b[0m     \u001b[0;32melse\u001b[0m\u001b[0;34m:\u001b[0m\u001b[0;34m\u001b[0m\u001b[0m\n",
      "\u001b[0;31mMemoryError\u001b[0m: "
     ]
    }
   ],
   "source": [
    "from scipy.stats import ks_2samp\n",
    "plt.rcParams.update({'font.size': 16})\n",
    "for area in data_mapper:\n",
    "    print(\"========= {} ==============\".format(area))\n",
    "    treefall, lats, lons = load_specific_data(area=area, spec='treefall')\n",
    "    cover, lats, lons = load_specific_data(area=area, spec='cover')\n",
    "    aspect, lats, lons = load_specific_data(area=area, spec='aspect')\n",
    "    biomass, lats, lons = load_specific_data(area=area, spec='biomass')\n",
    "    for var in ('height', 'aspect', 'slope'):\n",
    "        data, lats, lons = load_specific_data(area=area, spec=var)\n",
    "        all_data_indicies = ((aspect != -1) & (cover > 25)).ravel()\n",
    "        tree_fall_indicies = (treefall == 1).ravel()\n",
    "        plt.figure(figsize=(8, 6))\n",
    "        plt.hist(data[treefall == 1], bins=50, normed=True, color='gray')\n",
    "        plt.title(\"Area: {}\".format(area))\n",
    "        plt.gca().set_xlabel(str(var))\n",
    "        y_data, x_spec = np.histogram(data.ravel()[all_data_indicies], bins=50, density=True)\n",
    "        plt.gca().plot(x_spec[:-1], y_data, 'r')\n",
    "        plt.savefig(\"%s_%s_histoogram.png\" % (area, var), dpi=300)\n",
    "        print(\"Statistical comparison to all points\")\n",
    "        \n",
    "        # ------------ Select predefined number of points randomly ----------\n",
    "        a, b = np.random.choice(data.ravel()[tree_fall_indicies], size=int(tree_fall_indicies.sum() * 0.7)), \\\n",
    "               np.random.choice(data.ravel()[all_data_indicies], size=int(tree_fall_indicies.sum() * 0.7)),  \n",
    "        print(\"K-S test: \", ks_2samp(a, b))\n",
    "        \n",
    "        # ---------------- Biomass vs Parameters -----------------\n",
    "        f = plt.figure()\n",
    "        ax1 = f.add_subplot(121)\n",
    "        ax2 = f.add_subplot(122)\n",
    "        ax1.plot(data.ravel()[all_data_indicies], biomass.ravel()[all_data_indicies], '.')\n",
    "        ax1.set_title(\"Original biomass distribution\")\n",
    "        ax2.plot(data.ravel()[tree_fall_indicies], biomass.ravel()[tree_fall_indicies], '.')\n",
    "        ax2.set_title(\"Harvested biomass distribution\")\n",
    "        print(\"Harvested biomass total={}: mean={} +/- std={} \".format(biomass.ravel()[tree_fall_indicies].sum(), biomass.ravel()[tree_fall_indicies].mean(), biomass.ravel()[tree_fall_indicies].std()))\n",
    "        print(\"Total biomass total={}: mean={} +/- std={} \".format(biomass.ravel()[all_data_indicies].sum(), biomass.ravel()[all_data_indicies].mean(), biomass.ravel()[all_data_indicies].std()))\n",
    "        plt.savefig(\"%s_%s_biomass.png\" % (area, var), dpi=300)\n",
    "        print(\"=\" * 50)\n"
   ]
  },
  {
   "cell_type": "markdown",
   "metadata": {},
   "source": []
  },
  {
   "cell_type": "code",
   "execution_count": null,
   "metadata": {},
   "outputs": [],
   "source": [
    "## Make connectivity regions\n",
    "from skimage.measure import label\n",
    "\n",
    "\n",
    "for area in data_mapper:\n",
    "    print(\"Evaluating area: \", area)\n",
    "    treefall, lats, lons = load_specific_data(area=area, spec='treefall')\n",
    "    slopes, lats, lons = load_specific_data(area=area, spec='slope')\n",
    "    labels = label(treefall, connectivity=2)\n",
    "    res = []\n",
    "    lat_size, lon_size = abs(lats[0][1] - lats[0][0]), abs(lons[1][0] - lons[0][0])\n",
    "    for lab in np.unique(labels.ravel()):\n",
    "        res.append((lat_size*lon_size/np.cos(slopes[labels == lab])).sum())\n",
    "    plt.hist(res, bins=50, normed=True)\n",
    "    plt.title(\"Tree fall areas distribution\")\n",
    "    plt.savefig(\"%s_treefalls.png\"%area, dpi=300)\n"
   ]
  },
  {
   "cell_type": "code",
   "execution_count": null,
   "metadata": {},
   "outputs": [],
   "source": [
    "# from sklearn.discriminant_analysis import LinearDiscriminantAnalysis\n",
    "# from sklearn.model_selection import cross_val_score, train_test_split\n",
    "# from sklearn.decomposition import PCA\n",
    "\n",
    "# for area in data_mapper:\n",
    "#     print(\"========= {} ==============\".format(area))\n",
    "#     treefall, lats, lons = load_specific_data(area=area, spec='treefall')\n",
    "#     data, lats, lons = load_specific_data(area=area, spec='aspect')\n",
    "#     non_tree_fall_indicies = ((treefall != 1 ) & (data != -1)).ravel()\n",
    "#     tree_fall_indicies = (treefall == 1).ravel()\n",
    "#     # accumulate dataset \n",
    "#     X = []\n",
    "#     y = np.hstack([[0] * non_tree_fall_indicies.sum(), [1] * tree_fall_indicies.sum()])\n",
    "#     for var in ('height', 'aspect', 'slope'):\n",
    "#         data, lats, lons = load_specific_data(area=area, spec=var)\n",
    "#         _ = np.hstack([data.ravel()[non_tree_fall_indicies], data.ravel()[tree_fall_indicies]])\n",
    "#         X.append(_.tolist())\n",
    "#     X = np.array(X).T\n",
    "#     model = LinearDiscriminantAnalysis().fit(X, y)\n",
    "#     roc_auc = cross_val_score(model, X, y, cv=10, scoring='roc_auc')\n",
    "#     print(\"ROC_AUC: mean={}, std={}\".format(np.mean(roc_auc),np.std(roc_auc)))\n",
    "#     accuracy = cross_val_score(model, X, y, cv=10, scoring='balanced_accuracy')\n",
    "#     print(\"Accuracy: mean={}, std={}\".format(np.mean(accuracy),np.std(accuracy)))\n",
    "    \n",
    "#     # Performing PCA projections\n",
    "#     _, X_, _, y_ = train_test_split(X, y, stratify=y, test_size=0.01, random_state=0)\n",
    "#     X_proj = PCA(n_components=2).fit_transform(X_)\n",
    "#     plt.scatter(X_proj[y_==0, 0], X_proj[y_==0, 1], marker='o', color='r')\n",
    "#     plt.scatter(X_proj[y_==1, 0], X_proj[y_==1, 1], marker='s', color='b')\n",
    "#     plt.show()\n",
    "#     print(\"=\" * 50)"
   ]
  }
 ],
 "metadata": {
  "kernelspec": {
   "display_name": "Python 3",
   "language": "python",
   "name": "python3"
  },
  "language_info": {
   "codemirror_mode": {
    "name": "ipython",
    "version": 3
   },
   "file_extension": ".py",
   "mimetype": "text/x-python",
   "name": "python",
   "nbconvert_exporter": "python",
   "pygments_lexer": "ipython3",
   "version": "3.5.4"
  }
 },
 "nbformat": 4,
 "nbformat_minor": 2
}
